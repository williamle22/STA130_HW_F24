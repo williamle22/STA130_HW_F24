{
 "cells": [
  {
   "cell_type": "markdown",
   "id": "7ce42044",
   "metadata": {},
   "source": [
    "# Individual Project Proposal"
   ]
  },
  {
   "cell_type": "markdown",
   "id": "25fcff40",
   "metadata": {},
   "source": [
    "## Analysis 1:"
   ]
  },
  {
   "cell_type": "markdown",
   "id": "e11edc6b",
   "metadata": {},
   "source": [
    "### Research Question: How does the frequency of meeting others for meals/coffee impact life satisfaction?\n",
    "\n",
    "### Variable Selection:  \n",
    "For this analysis, I selected **frequency of meeting others for meals or coffee** as the independent variable. Specifically, I will use the variable `CONNECTION_activities_coffee_p3m`, which quantifies how often participants meet with others for meals or coffee as a numerical value. The dependent variable in this analysis is **life satisfaction**, measured through `WELLNESS_life_satisfaction`, which is a broad indicator (score) of someone's general happiness and satisfaction with their life (it is numerical).\n",
    "\n",
    "**Variable Visualizations**:\n",
    "- **Frequency of Meeting Others for Meals or Coffee**: A **histogram or (KDE)** can show the distribution of how often participants eat meals or drink coffee with others (in intervals/bins), displaying common patterns in the frequency of these interactions.\n",
    "- **Life Satisfaction**: A **histogram or (KDE)** will effectively illustrate the distribution of life satisfaction scores by plotting score intervals (e.g. 1-2, 3-4, 5-6) on the x-axis against the number of participants reporting those scores on the y-axis. This visualization will allow for quick identification of trends, such as whether most participants report high or low satisfaction levels, and highlight any potential outliers within the dataset.\n",
    "\n",
    "### Analysis Method and Assumptions:  \n",
    "I will use simple linear regression to analyze the relationship between the frequency of meeting others for meals/coffee and life satisfaction. This method estimates how much life satisfaction changes with each additional instance of meeting others for meals or coffee. The model for this analysis will be specified as:\n",
    "\n",
    "Life Satisfaction = $\\beta_0$ + $\\beta_1$ $\\times$ Frequency of Meeting Others for Meals or Coffee + $\\epsilon$\n",
    "\n",
    "To assess linearity, I will create a **scatter plot** to visualize the relationship between life satisfaction ratings and the frequency of meeting others for coffee or meals. This will help me identify any trends or patterns that indicate a linear relationship between these two variables.\n",
    "\n",
    "**Key assumptions** for this analysis include linearity (which I will check for), independence of observations, homoscedasticity, and normality of residuals.\n",
    "\n",
    "The linear regression model estimates the regression coefficient $\\beta_1$ (how much life satisfaction changes with each additional instance of meeting others for meals or coffee), and using this estimate along with its standard error, I will calculate a 95% confidence interval for the regression coefficient.\n",
    "\n",
    "### Hypotheses:\n",
    "Null hypothesis ($H_0$): $\\beta_1$ = 0 (there is no relationship between the frequency of meeting others for meals or coffee and life satisfaction).\n",
    "\n",
    "Alternative hypothesis ($H_A$): $\\beta_1$ $\\neq$ 0 (there is a relationship between the frequency of meeting others for meals or coffee and life satisfaction).\n",
    "\n",
    "\n",
    "### Expected Results:  \n",
    "Statistically significant negative association: The 95% confidence interval does not include zero and is entirely negative. This suggests that a higher frequency of meeting others for meals or coffee is linked to lower life satisfaction.\n",
    "\n",
    "Statistically significant positive association: The 95% confidence interval does not include zero and is entirely positive. This indicates that a higher frequency of meeting others for meals or coffee is associated with greater life satisfaction.\n",
    "\n",
    "No statistically significant association: The 95% confidence interval includes zero, implying no clear evidence that the frequency of meeting others for meals or coffee impacts life satisfaction."
   ]
  },
  {
   "cell_type": "markdown",
   "id": "6ce1ed71",
   "metadata": {},
   "source": [
    "## Analysis 2:"
   ]
  },
  {
   "cell_type": "markdown",
   "id": "4e02a282",
   "metadata": {},
   "source": [
    "### Research Question: Does satisfaction with the number of friends influence loneliness?\n",
    "\n",
    "### Variable Selection:  \n",
    "For this analysis, I chose **satisfaction with the number of friends** as the independent variable (`CONNECTION_satisfied_num_friends`), which is a subjective assessment that may influence loneliness regardless of actual friend count (it is categorical). The dependent variable in this analysis is **loneliness**, measured through `LONELY_ucla_loneliness_scale_companionship`, which focuses on one's feelings of companionship, a rating of one's loneliness (it is numerical).\n",
    "\n",
    "**Variable Visualizations**:\n",
    "- **Satisfaction with Number of Friends**: As satisfaction is measured on a categorical scale (e.g. “very dissatisfied” to “very satisfied”), a **bar chart** will best display the count of responses for each satisfaction level, showing how participants feel about their social circle size.\n",
    "- **Loneliness**: A **histogram** will effectively display the distribution of loneliness scores by grouping them into intervals, known as bins, allowing for a clear visualization of how many participants fall within specific score ranges. A **box plot** can also provide additional insight into the median loneliness score, its spread, and any outliers.\n",
    "\n",
    "### Analysis Method and Assumptions:  \n",
    "To assess mean differences in loneliness across satisfaction levels, I will use bootstrapping, which involves repeatedly resampling the data (with replacement) to estimate confidence intervals. Additionally, I will include box plots to compare loneliness scores across different satisfaction categories. This visualization will provide insight into the differences in loneliness associated with varying levels of friendship satisfaction.\n",
    "\n",
    "**Key assumptions** for this analysis include independence of observations, sufficient sample sizes for each satisfaction category, homogeneity of variances (homoscedasticity), and normality of residuals.\n",
    "\n",
    "For this analysis, I will calculate 95% confidence intervals for the mean differences in loneliness among each satisfaction group. By comparing these intervals, I will assess whether the mean loneliness scores significantly differ across satisfaction levels. Specifically, I will check for overlap in the confidence intervals.\n",
    "\n",
    "### Hypotheses:\n",
    "Null hypothesis ($H_0$): There is no difference in the mean loneliness scores between the different friendship satisfaction groups.\n",
    "\n",
    "Alternative hypothesis ($H_A$): There is a difference in the mean loneliness scores between at least two of the friendship satisfaction groups.\n",
    "\n",
    "### Expected Results:  \n",
    "Statistically significant positive association: If the confidence intervals for loneliness scores do not overlap, and the scores for the group with higher friendship satisfaction (e.g. \"satisfied\") are higher than those for the group with lower friendship satisfaction (e.g. \"dissatisfied\"), it suggests a statistically significant positive association. This indicates that as satisfaction with the number of friends increases, loneliness increases as well.\n",
    "\n",
    "Statistically significant negative association: Conversely, if the confidence intervals for the same groups do not overlap, and the scores for the higher satisfaction group are lower than those of the lower satisfaction group, it suggests a statistically significant negative association. This suggests that increased satisfaction with the number of friends is linked to reduced feelings of loneliness.\n",
    "\n",
    "No statistically significant association: If the confidence intervals for loneliness scores overlap, it indicates no statistically significant difference between the groups. This suggests that satisfaction with the number of friends does not significantly influence loneliness levels."
   ]
  },
  {
   "cell_type": "markdown",
   "id": "b0a8d302",
   "metadata": {},
   "source": [
    "## Analysis 3:"
   ]
  },
  {
   "cell_type": "markdown",
   "id": "64f448c5",
   "metadata": {},
   "source": [
    "### Research Question: How does video chatting frequency impact mental health?\n",
    "\n",
    "### Variable Selection:  \n",
    "The independent variable in this analysis is **frequency of video chatting** (`CONNECTION_activities_video_chat_p3m`), which measures the frequency with which participants engage in video calls as a form of digital social interaction (it is numerical). The dependent variable in this case is **self-rated mental health**, measured through `WELLNESS_self_rated_mental_health`, which provides a direct insight into participants’ perceptions of their own mental health as a score (it is numerical).\n",
    "\n",
    "**Variable Visualizations**:\n",
    "- **Frequency of Video Chatting**: A **histogram (or KDE)** will display the distribution of participants' video chatting frequency by using bins (intervals) to group the data. This visualization will reveal the frequency of different levels of video chatting among participants, showing how often they engage in this form of social interaction.\n",
    "- **Self-Rated Mental Health**: As mental health ratings are represented as a score (numerical), a **histogram (or KDE)** will best display the distribution of participants' ratings across different ranges (shown as bins), allowing for a detailed overview of how mental health scores are spread within the sample.\n",
    "\n",
    "### Analysis Method and Assumptions:  \n",
    "I will use linear regression to analyze the relationship between video chatting frequency and mental health ratings. To begin, I will create a **scatter plot** to visualize the relationship between self-rated mental health scores and video chatting frequency, which will help me identify any trends or patterns. This step will also provide crucial insight into whether a linear regression model is appropriate for this analysis. The model for this analysis will be specified as:\n",
    "\n",
    "Self-Rated Mental Health = $\\beta_0$ + $\\beta_1$ × Video Chatting Frequency + $\\epsilon$\n",
    "\n",
    "**Key assumptions** for this analysis include linearity (which I will check for), independence of observations, homoscedasticity, and normality of residuals.\n",
    "\n",
    "After fitting the model using statistical software (and obtaining an estimation for $\\beta_1$), I will evaluate the model fit through R-squared. I will also calculate an 95% confidence interval for the slope coefficient, $\\beta_1$, which assesses the precision of the estimate for the relationship between video chatting frequency and mental health. To test the significance of the relationship between video chatting frequency and mental health, I will examine the p-value associated with $\\beta_1$. \n",
    "\n",
    "### Hypotheses:\n",
    "Null hypothesis ($H_0$): $\\beta_1$ = 0 (there is no relationship between video chatting frequency and self-rated mental health). In other words, p > 0.05.\n",
    "\n",
    "Alternative hypothesis ($H_1$): $\\beta_1$ $\\neq$ 0 (there is a relationship between video chatting frequency and self-rated mental health). In other words, p $\\le$ 0.05.\n",
    "\n",
    "### Expected Results:  \n",
    "Statistically significant positive association: If the p-value is less than or equal to 0.05 and the 95% confidence interval for $\\beta_1$ does not include zero and is entirely above zero, this suggests a positive relationship. It indicates that as video chatting frequency increases, self-rated mental health improves.\n",
    "\n",
    "Statistically significant negative association: If the p-value is less than or equal to 0.05 and the 95% confidence interval for $\\beta_1$ does not include zero and is entirely below zero, this suggests a negative relationship. It indicates that as video chatting frequency increases, self-rated mental health worsens.\n",
    "\n",
    "No statistically significant association: If the p-value is above 0.05 and the 95% confidence interval for $\\beta_1$ includes zero, this suggests no significant relationship. It means there is no clear evidence that video chatting frequency impacts self-rated mental health in either direction."
   ]
  }
 ],
 "metadata": {
  "kernelspec": {
   "display_name": "Python 3 (ipykernel)",
   "language": "python",
   "name": "python3"
  },
  "language_info": {
   "codemirror_mode": {
    "name": "ipython",
    "version": 3
   },
   "file_extension": ".py",
   "mimetype": "text/x-python",
   "name": "python",
   "nbconvert_exporter": "python",
   "pygments_lexer": "ipython3",
   "version": "3.11.6"
  }
 },
 "nbformat": 4,
 "nbformat_minor": 5
}
